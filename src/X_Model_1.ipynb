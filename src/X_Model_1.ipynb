{
 "cells": [
  {
   "cell_type": "code",
   "execution_count": 5,
   "id": "9dc0d893",
   "metadata": {},
   "outputs": [
    {
     "name": "stdout",
     "output_type": "stream",
     "text": [
      "데이터 불러오기 성공!\n",
      "   자치구별(1)  자치구별(2)    2014 2014.1 2014.2 2014.3 2014.4 2014.5   2014.6  \\\n",
      "0  자치구별(1)  자치구별(2)      합계     합계     합계     합계     합계     합계       합계   \n",
      "1  자치구별(1)  자치구별(2)      소계     소계     살인     살인     강도     강도  강간·강제추행   \n",
      "2  자치구별(1)  자치구별(2)      발생     검거     발생     검거     발생     검거       발생   \n",
      "3       합계       소계  130674  79061    158    152    343    299     5462   \n",
      "4       합계      종로구    5021   4610      3      7     12     15      226   \n",
      "\n",
      "    2014.7  ... 2024.2 2024.3 2024.4 2024.5   2024.6   2024.7 2024.8 2024.9  \\\n",
      "0       합계  ...     합계     합계     합계     합계       합계       합계     합계     합계   \n",
      "1  강간·강제추행  ...     살인     살인     강도     강도  강간·강제추행  강간·강제추행     절도     절도   \n",
      "2       검거  ...     발생     검거     발생     검거       발생       검거     발생     검거   \n",
      "3     4957  ...    149    137     87     85     5523     5183  35506  22796   \n",
      "4      948  ...      2      3      5     10      209      933   1183   1056   \n",
      "\n",
      "  2024.10 2024.11  \n",
      "0      합계      합계  \n",
      "1      폭력      폭력  \n",
      "2      발생      검거  \n",
      "3   39554   35074  \n",
      "4    1366    1246  \n",
      "\n",
      "[5 rows x 134 columns]\n"
     ]
    }
   ],
   "source": [
    "import pandas as pd\n",
    "import os\n",
    "\n",
    "\n",
    "relative_data_path = 'C:\\\\Users\\\\user\\\\Desktop\\\\0.data\\\\SORA_Project-1\\\\SORA_Project\\\\data\\\\raw\\\\'\n",
    "file_name = 'X01_5대+범죄+발생현황.csv'\n",
    "file_path = os.path.join(relative_data_path, file_name)\n",
    "\n",
    "# 2. CSV 파일 읽기\n",
    "try:\n",
    "    df_crime = pd.read_csv(file_path, encoding='utf-8')\n",
    "    \n",
    "    # 데이터가 잘 불러와졌는지 확인하기 위해 상위 5개 행을 출력\n",
    "    print(\"데이터 불러오기 성공!\")\n",
    "    print(df_crime.head())\n",
    "    \n",
    "except FileNotFoundError:\n",
    "    print(f\"오류: '{file_path}' 파일을 찾을 수 없습니다. 파일 경로와 이름을 다시 확인해주세요.\")\n",
    "except Exception as e:\n",
    "    # 한글 인코딩 문제로 오류가 날 경우를 대비한 추가 처리\n",
    "    print(f\"다른 인코딩으로 재시도 중... 현재 오류: {e}\")\n",
    "    try:\n",
    "        df_crime = pd.read_csv(file_path, encoding='cp949') # 윈도우 기본 인코딩\n",
    "        print(\"데이터 불러오기 성공 (cp949)\")\n",
    "        print(df_crime.head())\n",
    "    except:\n",
    "        print(\"파일 불러오기에 실패했습니다. 파일이 깨졌거나 인코딩 문제가 심각합니다.\")"
   ]
  },
  {
   "cell_type": "code",
   "execution_count": 8,
   "id": "9fe6fea9",
   "metadata": {},
   "outputs": [
    {
     "name": "stdout",
     "output_type": "stream",
     "text": [
      "<class 'pandas.core.frame.DataFrame'>\n",
      "RangeIndex: 29 entries, 0 to 28\n",
      "Columns: 134 entries, 자치구별(1) to 2024.11\n",
      "dtypes: object(134)\n",
      "memory usage: 30.5+ KB\n"
     ]
    }
   ],
   "source": [
    "df_crime.info()"
   ]
  }
 ],
 "metadata": {
  "kernelspec": {
   "display_name": "base",
   "language": "python",
   "name": "python3"
  },
  "language_info": {
   "codemirror_mode": {
    "name": "ipython",
    "version": 3
   },
   "file_extension": ".py",
   "mimetype": "text/x-python",
   "name": "python",
   "nbconvert_exporter": "python",
   "pygments_lexer": "ipython3",
   "version": "3.13.2"
  }
 },
 "nbformat": 4,
 "nbformat_minor": 5
}
