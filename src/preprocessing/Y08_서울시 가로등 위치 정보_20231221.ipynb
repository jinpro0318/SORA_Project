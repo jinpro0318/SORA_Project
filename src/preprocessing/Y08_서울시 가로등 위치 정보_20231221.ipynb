{
 "cells": [
  {
   "cell_type": "code",
   "execution_count": null,
   "id": "b34f6d19",
   "metadata": {},
   "outputs": [],
   "source": [
    "import pandas as pd\n",
    "import numpy as np\n",
    "import os\n",
    "import re\n",
    "\n",
    "\n",
    "# ===== 0) 경로 =====\n",
    "relative_data_path = '../../data/raw/'\n",
    "file_name = 'Y08_서울시 가로등 위치 정보_20231221.csv'\n",
    "input_file = os.path.join(relative_data_path, file_name)  # 변수 이름을 input_file로\n",
    "\n",
    "output_dir = '../../data/preprocessing'\n",
    "os.makedirs(output_dir, exist_ok=True)\n",
    "output_file = os.path.join(\n",
    "    output_dir,\n",
    "    'Y08_전처리_서울시 가로등 위치 정보_20231221.csv'\n",
    ")\n",
    "\n",
    "# ===== 1) 로드 =====\n",
    "df = pd.read_csv(input_file, sep=\"\\t\", encoding=\"utf-8-sig\")\n",
    "df.columns = df.columns.str.strip()\n",
    "df.info()"
   ]
  }
 ],
 "metadata": {
  "language_info": {
   "name": "python"
  }
 },
 "nbformat": 4,
 "nbformat_minor": 5
}
