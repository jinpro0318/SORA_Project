{
 "cells": [
  {
   "cell_type": "code",
   "execution_count": 3,
   "id": "b34f6d19",
   "metadata": {},
   "outputs": [
    {
     "name": "stdout",
     "output_type": "stream",
     "text": [
      "❌ 실패: encoding=utf-8-sig, sep='\t' | 에러: 'utf-8' codec can't decode byte 0xb0 in position 0: invalid start byte\n",
      "❌ 실패: encoding=utf-8-sig, sep=',' | 에러: 'utf-8' codec can't decode byte 0xb0 in position 0: invalid start byte\n",
      "❌ 실패: encoding=utf-8, sep='\t' | 에러: 'utf-8' codec can't decode byte 0xb0 in position 0: invalid start byte\n",
      "❌ 실패: encoding=utf-8, sep=',' | 에러: 'utf-8' codec can't decode byte 0xb0 in position 0: invalid start byte\n",
      "✅ 성공: encoding=cp949, sep='\t'\n",
      "                       관리번호,위도,경도\n",
      "0  가락지하차도-01,37.495254,127.107417\n",
      "1  가락지하차도-02,37.495354,127.107755\n",
      "2  가락지하차도-03,37.495443,127.108073\n",
      "<class 'pandas.core.frame.DataFrame'>\n",
      "RangeIndex: 19316 entries, 0 to 19315\n",
      "Data columns (total 1 columns):\n",
      " #   Column      Non-Null Count  Dtype \n",
      "---  ------      --------------  ----- \n",
      " 0   관리번호,위도,경도  19316 non-null  object\n",
      "dtypes: object(1)\n",
      "memory usage: 151.0+ KB\n"
     ]
    }
   ],
   "source": [
    "import pandas as pd\n",
    "import numpy as np\n",
    "import os\n",
    "import re\n",
    "\n",
    "\n",
    "# ===== 0) 경로 =====\n",
    "relative_data_path = '../../data/raw/'\n",
    "file_name = 'Y08_서울시 가로등 위치 정보_20231221.csv'\n",
    "input_file = os.path.join(relative_data_path, file_name)  # 변수 이름을 input_file로\n",
    "\n",
    "output_dir = '../../data/preprocessing'\n",
    "os.makedirs(output_dir, exist_ok=True)\n",
    "output_file = os.path.join(\n",
    "    output_dir,\n",
    "    'Y08_전처리_서울시 가로등 위치 정보_20231221.csv'\n",
    ")\n",
    "\n",
    "# ===== 1) 로드 =====\n",
    "encodings = [\"utf-8-sig\", \"utf-8\", \"cp949\", \"euc-kr\"]\n",
    "separators = [\"\\t\", \",\"]\n",
    "\n",
    "file_path = input_file  # 네가 지정한 경로\n",
    "\n",
    "for enc in encodings:\n",
    "    for sep in separators:\n",
    "        try:\n",
    "            df = pd.read_csv(file_path, encoding=enc, sep=sep)\n",
    "            print(f\"✅ 성공: encoding={enc}, sep='{sep}'\")\n",
    "            print(df.head(3))\n",
    "            break  # 맞는 조합 찾으면 멈추고 싶다면 이 break 유지\n",
    "        except Exception as e:\n",
    "            print(f\"❌ 실패: encoding={enc}, sep='{sep}' | 에러: {str(e).splitlines()[0]}\")\n",
    "    else:\n",
    "        continue\n",
    "    break\n",
    "df = df.copy()\n",
    "df.info()"
   ]
  },
  {
   "cell_type": "code",
   "execution_count": null,
   "id": "939a88ae",
   "metadata": {},
   "outputs": [],
   "source": []
  }
 ],
 "metadata": {
  "kernelspec": {
   "display_name": "base",
   "language": "python",
   "name": "python3"
  },
  "language_info": {
   "codemirror_mode": {
    "name": "ipython",
    "version": 3
   },
   "file_extension": ".py",
   "mimetype": "text/x-python",
   "name": "python",
   "nbconvert_exporter": "python",
   "pygments_lexer": "ipython3",
   "version": "3.12.11"
  }
 },
 "nbformat": 4,
 "nbformat_minor": 5
}
