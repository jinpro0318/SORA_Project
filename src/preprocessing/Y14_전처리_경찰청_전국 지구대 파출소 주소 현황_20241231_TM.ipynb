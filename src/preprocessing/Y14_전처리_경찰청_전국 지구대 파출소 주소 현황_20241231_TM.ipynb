{
 "cells": [
  {
   "cell_type": "code",
   "execution_count": 8,
   "id": "37595165",
   "metadata": {},
   "outputs": [
    {
     "name": "stdout",
     "output_type": "stream",
     "text": [
      "<class 'pandas.core.frame.DataFrame'>\n",
      "RangeIndex: 2045 entries, 0 to 2044\n",
      "Data columns (total 20 columns):\n",
      " #   Column  Non-Null Count  Dtype  \n",
      "---  ------  --------------  -----  \n",
      " 0   연번      2045 non-null   object \n",
      " 1   시도청     2024 non-null   object \n",
      " 2   경찰서     2024 non-null   object \n",
      " 3   관서명     2024 non-null   object \n",
      " 4   구분      2024 non-null   object \n",
      " 5   전화번호    2024 non-null   object \n",
      " 6   주소      2024 non-null   object \n",
      " 7   입력주소    2024 non-null   object \n",
      " 8   X       2024 non-null   float64\n",
      " 9   Y       2024 non-null   float64\n",
      " 10  CLSS    2024 non-null   object \n",
      " 11  PNU     2022 non-null   float64\n",
      " 12  주소구분    2024 non-null   object \n",
      " 13  표준신주소   2010 non-null   object \n",
      " 14  표준구주소   2024 non-null   object \n",
      " 15  우편번호    1960 non-null   float64\n",
      " 16  행정동코드   1997 non-null   float64\n",
      " 17  행정동명    1997 non-null   object \n",
      " 18  법정동코드   1990 non-null   float64\n",
      " 19  법정동명    1997 non-null   object \n",
      "dtypes: float64(6), object(14)\n",
      "memory usage: 319.7+ KB\n"
     ]
    }
   ],
   "source": [
    "import pandas as pd\n",
    "import numpy as np\n",
    "import os\n",
    "import re\n",
    "\n",
    "# ============================================================\n",
    "# 🧭 Y14_경찰청 지구대·파출소 수치화 전처리 (법정동코드 기반 시·구·동 파생)\n",
    "# - 파일 로드\n",
    "# - 법정동코드로 시·구·동 파생\n",
    "# - 구별 지구대/파출소 수 집계 및 저장\n",
    "# - 서울특별시 데이터 별도 저장\n",
    "# ============================================================\n",
    "\n",
    "# ===== 0) 경로 =====\n",
    "input_file  = \"/Users/mac/Documents/SORA_Project/data/raw/Y14_경찰청_전국 지구대 파출소 주소 현황_20241231_TM.csv\"\n",
    "output_dir  = \"/Users/mac/Documents/SORA_Project/data/preprocessing\"\n",
    "os.makedirs(output_dir, exist_ok=True)\n",
    "output_file = os.path.join(output_dir, \"Y14_전처리_경찰청_전국 지구대 파출소 주소 현황_20241231_TM.csv\")\n",
    "\n",
    "# ===== 1) 로드 =====\n",
    "df = pd.read_csv(input_file, sep=\"\\t\", encoding=\"utf-8-sig\")\n",
    "df.columns = df.columns.str.strip()\n",
    "df.info()\n",
    "\n",
    "# ===== 2) 법정동코드로 시·구·동 파생 =====\n",
    "df[\"법정동코드_10자리\"] = (\n",
    "    df[\"법정동코드\"]\n",
    "    .fillna(0)\n",
    "    .astype(np.int64)\n",
    "    .astype(str)\n",
    "    .str.zfill(10)\n",
    ")\n"
   ]
  },
  {
   "cell_type": "code",
   "execution_count": 9,
   "id": "c561e8aa",
   "metadata": {},
   "outputs": [],
   "source": [
    "# ===== 2) 법정동코드로 시·구·동 파생 =====\n",
    "df[\"법정동코드_10자리\"] = (\n",
    "    df[\"법정동코드\"]\n",
    "    .fillna(0)\n",
    "    .astype(np.int64)\n",
    "    .astype(str)\n",
    "    .str.zfill(10)\n",
    ")\n",
    "\n",
    "df[\"시도코드\"] = df[\"법정동코드_10자리\"].str[:2]\n",
    "df[\"시군구코드\"] = df[\"법정동코드_10자리\"].str[2:5]\n",
    "df[\"법정동_코드\"] = df[\"법정동코드_10자리\"].str[5:10]\n",
    "\n",
    "# 시 매핑\n",
    "sido_map = {\"11\": \"서울특별시\"}  # 필요시 다른 시도 추가 가능\n",
    "df[\"시\"] = df[\"시도코드\"].map(sido_map)\n",
    "\n",
    "# 구 매핑\n",
    "gu_map = {\n",
    "    '110': '종로구', '140': '중구', '170': '용산구', '200': '성동구', '215': '광진구',\n",
    "    '230': '동대문구', '260': '중랑구', '290': '성북구', '305': '강북구', '320': '도봉구',\n",
    "    '350': '노원구', '380': '은평구', '410': '서대문구', '440': '마포구', '470': '양천구',\n",
    "    '500': '강서구', '530': '구로구', '545': '금천구', '560': '영등포구', '590': '동작구',\n",
    "    '620': '관악구', '650': '서초구', '680': '강남구', '710': '송파구', '740': '강동구'\n",
    "}\n",
    "df[\"구\"] = df[\"시군구코드\"].map(gu_map)\n",
    "\n",
    "# 동 매핑 (법정동명 그대로 사용)\n",
    "if \"법정동명\" in df.columns:\n",
    "    df[\"동\"] = df[\"법정동명\"]\n",
    "else:\n",
    "    df[\"동\"] = np.nan"
   ]
  },
  {
   "cell_type": "code",
   "execution_count": 19,
   "id": "cb82d718",
   "metadata": {},
   "outputs": [
    {
     "name": "stdout",
     "output_type": "stream",
     "text": [
      "\n",
      "🏙️ [결측치 확인 - 서울특별시]\n",
      "📊 총 행 수: 234행\n",
      "🚫 결측치 수 (시·구·동 컬럼별):\n",
      "구    0\n",
      "동    0\n",
      "dtype: int64\n",
      "🧾 전체 결측치 총합: 0개\n",
      "\n",
      "📌 [서울특별시 데이터 샘플 10건]\n",
      "    연번  시도청   경찰서    관서명   구분          전화번호                              주소  \\\n",
      "0    1  서울청  서울중부     을지  지구대  02-2279-1908              서울특별시 중구 퇴계로49길 13   \n",
      "1    2  서울청  서울중부     광희  지구대  02-2233-1444             서울특별시 중구  퇴계로 375-1   \n",
      "2    3  서울청  서울중부     약수  지구대  02-2234-8112             서울특별시 중구  동호로 5길 15   \n",
      "4    5  서울청  서울중부     장충  파출소  02-2274-9003               서울특별시 중구  동호로 261   \n",
      "5    6  서울청  서울중부     충무  파출소  02-2278-7710               서울특별시 중구  퇴계로 178   \n",
      "6    7  서울청  서울중부  을지로3가  파출소  02-2266-2404                서울특별시 중구 충무로56-1   \n",
      "7    8  서울청  서울종로   종로2가  지구대  02-3701-4301             서울특별시 종로구  종로17길 4    \n",
      "8    9  서울청  서울종로     관수  파출소  02-3701-4302  서울특별시 종로구 삼일대로15길 19 1층(임시파출소)   \n",
      "9   10  서울청  서울종로    세검정  파출소  02-3701-4507            서울특별시 종로구  세검정로 226    \n",
      "10  11  서울청  서울종로     평창  파출소  02-3701-4308             서울특별시 종로구  평창문화로 46   \n",
      "\n",
      "                              입력주소         X         Y  ...         법정동코드  \\\n",
      "0               서울특별시 중구 퇴계로49길 13  199942.0  451197.0  ...  1.114013e+09   \n",
      "1              서울특별시 중구  퇴계로 375-1  201114.0  451442.0  ...  1.114016e+09   \n",
      "2              서울특별시 중구  동호로 5길 15  201024.0  449986.0  ...  1.114016e+09   \n",
      "4                서울특별시 중구  동호로 261  200355.0  450721.0  ...  1.114014e+09   \n",
      "5                서울특별시 중구  퇴계로 178  199186.0  450955.0  ...  1.114014e+09   \n",
      "6                 서울특별시 중구 충무로56-1  199298.0  451544.0  ...  1.114016e+09   \n",
      "7              서울특별시 종로구  종로17길 4   198952.0  452024.0  ...  1.111014e+09   \n",
      "8   서울특별시 종로구 삼일대로15길 19 1층(임시파출소)  198725.0  451824.0  ...  1.111014e+09   \n",
      "9             서울특별시 종로구  세검정로 226   196261.0  455303.0  ...  1.111018e+09   \n",
      "10             서울특별시 종로구  평창문화로 46  196984.0  455880.0  ...  1.111018e+09   \n",
      "\n",
      "     법정동명  법정동코드_10자리 시도코드 시군구코드  법정동_코드      시    구      동 지역구별 지구대/파출소 수  \n",
      "0   충무로5가  1114013300   11   140   13300  서울특별시   중구  충무로5가           66.0  \n",
      "1     신당동  1114016200   11   140   16200  서울특별시   중구    신당동           66.0  \n",
      "2     신당동  1114016200   11   140   16200  서울특별시   중구    신당동           66.0  \n",
      "4   장충동2가  1114014400   11   140   14400  서울특별시   중구  장충동2가           66.0  \n",
      "5    필동1가  1114013700   11   140   13700  서울특별시   중구   필동1가           66.0  \n",
      "6   을지로3가  1114015500   11   140   15500  서울특별시   중구  을지로3가           66.0  \n",
      "7    종로2가  1111013800   11   110   13800  서울특별시  종로구   종로2가          100.0  \n",
      "8     관철동  1111013500   11   110   13500  서울특별시  종로구    관철동          100.0  \n",
      "9     홍지동  1111018500   11   110   18500  서울특별시  종로구    홍지동          100.0  \n",
      "10    평창동  1111018300   11   110   18300  서울특별시  종로구    평창동          100.0  \n",
      "\n",
      "[10 rows x 28 columns]\n"
     ]
    }
   ],
   "source": [
    "# ===== 서울특별시 데이터만 필터링 =====\n",
    "df_seoul = df[df[\"시\"] == \"서울특별시\"].copy()\n",
    "\n",
    "# ===== 서울특별시 구·동 결측치 상태 확인 =====\n",
    "total_rows_seoul = len(df_seoul)\n",
    "missing_cols_seoul = df_seoul[[\"구\", \"동\"]].isnull().sum()\n",
    "missing_total_seoul = missing_cols_seoul.sum()\n",
    "\n",
    "\n",
    "print(\"\\n🏙️ [결측치 확인 - 서울특별시]\")\n",
    "print(f\"📊 총 행 수: {total_rows_seoul:,}행\")\n",
    "print(\"🚫 결측치 수 (시·구·동 컬럼별):\")\n",
    "print(missing_cols_seoul)\n",
    "print(f\"🧾 전체 결측치 총합: {missing_total_seoul}개\")\n",
    "\n",
    "print(\"\\n📌 [서울특별시 데이터 샘플 10건]\")\n",
    "print(df_seoul.head(10))"
   ]
  },
  {
   "cell_type": "code",
   "execution_count": 14,
   "id": "18012903",
   "metadata": {},
   "outputs": [
    {
     "name": "stdout",
     "output_type": "stream",
     "text": [
      "\n",
      "✅ [4단계] 서울 구별 집계 완료\n",
      "📊 지역구별 지구대/파출소 수 요약: 종로구 20개, 중구 14개, 강남구 14개, 강서구 11개, 서초구 11개, 송파구 11개, 광진구 10개, 동대문구 10개, 영등포구 10개, 성북구 10개, 강북구 9개, 성동구 9개, 은평구 8개, 강동구 8개, 노원구 8개, 구로구 8개, 관악구 8개, 중랑구 8개, 양천구 8개, 서대문구 8개, 도봉구 8개, 동작구 7개, 마포구 7개, 금천구 5개, 용산구 4개\n"
     ]
    }
   ],
   "source": [
    "# ===== 5) 구별 지구대/파출소 수 집계 =====\n",
    "df_seoul['지역구별 지구대/파출소 수'] = df_seoul.groupby('구')['구'].transform('size')\n",
    "df_gu_count = (\n",
    "    df_seoul.groupby('구')\n",
    "    .size()\n",
    "    .reset_index(name='지역구별 지구대/파출소 수')\n",
    "    .sort_values(by='지역구별 지구대/파출소 수', ascending=False)\n",
    ")\n",
    "\n",
    "gu_summary_text = \", \".join([f\"{row['구']} {row['지역구별 지구대/파출소 수']}개\" for _, row in df_gu_count.iterrows()])\n",
    "print(\"\\n✅ [4단계] 서울 구별 집계 완료\")\n",
    "print(f\"📊 지역구별 지구대/파출소 수 요약: {gu_summary_text}\")"
   ]
  },
  {
   "cell_type": "code",
   "execution_count": 15,
   "id": "89082034",
   "metadata": {},
   "outputs": [
    {
     "name": "stdout",
     "output_type": "stream",
     "text": [
      "\n",
      "💾 [5단계] Y14_전처리_경찰청_서울특별시_지구대_파출소_주소_현황_20241231_TM 저장 완료: 234행\n",
      "📁 파일 경로: /Users/mac/Documents/SORA_Project/data/preprocessing/Y14_전처리_경찰청_서울특별시_지구대_파출소_주소_현황_20241231_TM.csv\n"
     ]
    }
   ],
   "source": [
    "# ===== 6) 서울특별시 데이터만 저장 =====\n",
    "output_file_seoul = os.path.join(\n",
    "    output_dir,\n",
    "    \"Y14_전처리_경찰청_서울특별시_지구대_파출소_주소_현황_20241231_TM.csv\"\n",
    ")\n",
    "df_seoul.to_csv(output_file_seoul, index=False, encoding=\"utf-8-sig\")\n",
    "print(f\"\\n💾 [5단계] Y14_전처리_경찰청_서울특별시_지구대_파출소_주소_현황_20241231_TM 저장 완료: {len(df_seoul):,}행\")\n",
    "print(f\"📁 파일 경로: {output_file_seoul}\")"
   ]
  }
 ],
 "metadata": {
  "kernelspec": {
   "display_name": "3.11.13",
   "language": "python",
   "name": "python3"
  },
  "language_info": {
   "codemirror_mode": {
    "name": "ipython",
    "version": 3
   },
   "file_extension": ".py",
   "mimetype": "text/x-python",
   "name": "python",
   "nbconvert_exporter": "python",
   "pygments_lexer": "ipython3",
   "version": "3.11.13"
  }
 },
 "nbformat": 4,
 "nbformat_minor": 5
}
