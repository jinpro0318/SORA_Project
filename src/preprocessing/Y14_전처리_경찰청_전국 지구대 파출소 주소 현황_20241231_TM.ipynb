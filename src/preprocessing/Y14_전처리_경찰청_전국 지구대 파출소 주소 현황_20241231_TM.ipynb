{
 "cells": [
  {
   "cell_type": "code",
   "execution_count": 19,
   "id": "37595165",
   "metadata": {},
   "outputs": [
    {
     "name": "stdout",
     "output_type": "stream",
     "text": [
      "<class 'pandas.core.frame.DataFrame'>\n",
      "RangeIndex: 2045 entries, 0 to 2044\n",
      "Data columns (total 20 columns):\n",
      " #   Column  Non-Null Count  Dtype  \n",
      "---  ------  --------------  -----  \n",
      " 0   연번      2045 non-null   object \n",
      " 1   시도청     2024 non-null   object \n",
      " 2   경찰서     2024 non-null   object \n",
      " 3   관서명     2024 non-null   object \n",
      " 4   구분      2024 non-null   object \n",
      " 5   전화번호    2024 non-null   object \n",
      " 6   주소      2024 non-null   object \n",
      " 7   입력주소    2024 non-null   object \n",
      " 8   X       2024 non-null   float64\n",
      " 9   Y       2024 non-null   float64\n",
      " 10  CLSS    2024 non-null   object \n",
      " 11  PNU     2022 non-null   float64\n",
      " 12  주소구분    2024 non-null   object \n",
      " 13  표준신주소   2010 non-null   object \n",
      " 14  표준구주소   2024 non-null   object \n",
      " 15  우편번호    1960 non-null   float64\n",
      " 16  행정동코드   1997 non-null   float64\n",
      " 17  행정동명    1997 non-null   object \n",
      " 18  법정동코드   1990 non-null   float64\n",
      " 19  법정동명    1997 non-null   object \n",
      "dtypes: float64(6), object(14)\n",
      "memory usage: 319.7+ KB\n"
     ]
    }
   ],
   "source": [
    "import pandas as pd\n",
    "import numpy as np\n",
    "import os\n",
    "import re\n",
    "\n",
    "# ============================================================\n",
    "# 🧭 Y14_경찰청 지구대·파출소 수치화 전처리 (법정동코드 기반 시·구·동 파생)\n",
    "# - 파일 로드\n",
    "# - 법정동코드로 시·구·동 파생\n",
    "# - 구·동별 지구대/파출소 수 집계 및 저장\n",
    "# ============================================================\n",
    "\n",
    "# ===== 0) 경로 =====\n",
    "input_file  = \"/Users/mac/Documents/SORA_Project/data/raw/Y14_경찰청_전국 지구대 파출소 주소 현황_20241231_TM.csv\"\n",
    "output_dir  = \"/Users/mac/Documents/SORA_Project/data/preprocessing\"\n",
    "os.makedirs(output_dir, exist_ok=True)\n",
    "output_file = os.path.join(output_dir, \"Y14_전처리_경찰청_전국 지구대 파출소 주소 현황_20241231_TM.csv\")\n",
    "\n",
    "# ===== 1) 로드 =====\n",
    "df = pd.read_csv(input_file, sep=\"\\t\", encoding=\"utf-8-sig\")\n",
    "df.columns = df.columns.str.strip()\n",
    "df.info()\n",
    "\n",
    "# ===== 2) 법정동코드로 시·구·동 파생 =====\n",
    "df[\"법정동코드_10자리\"] = (\n",
    "    df[\"법정동코드\"]\n",
    "    .fillna(0)\n",
    "    .astype(np.int64)\n",
    "    .astype(str)\n",
    "    .str.zfill(10)\n",
    ")\n"
   ]
  },
  {
   "cell_type": "code",
   "execution_count": 23,
   "id": "c561e8aa",
   "metadata": {},
   "outputs": [],
   "source": [
    "# ===== 2) 법정동코드로 시·구·동 파생 =====\n",
    "df[\"법정동코드_10자리\"] = (\n",
    "    df[\"법정동코드\"]\n",
    "    .fillna(0)\n",
    "    .astype(np.int64)\n",
    "    .astype(str)\n",
    "    .str.zfill(10)\n",
    ")\n",
    "df[\"시도코드\"] = df[\"법정동코드_10자리\"].str[:2]\n",
    "df[\"시군구코드\"] = df[\"법정동코드_10자리\"].str[2:5]\n",
    "\n",
    "sido_map = {\"11\": \"서울특별시\"}\n",
    "df[\"시\"] = df[\"시도코드\"].map(sido_map)\n",
    "\n",
    "gu_map = {\n",
    "    '110': '종로구', '140': '중구', '170': '용산구', '200': '성동구', '215': '광진구',\n",
    "    '230': '동대문구', '260': '중랑구', '290': '성북구', '305': '강북구', '320': '도봉구',\n",
    "    '350': '노원구', '380': '은평구', '410': '서대문구', '440': '마포구', '470': '양천구',\n",
    "    '500': '강서구', '530': '구로구', '545': '금천구', '560': '영등포구', '590': '동작구',\n",
    "    '620': '관악구', '650': '서초구', '680': '강남구', '710': '송파구', '740': '강동구'\n",
    "}\n",
    "df[\"구\"] = df[\"시군구코드\"].map(gu_map)\n",
    "df[\"동\"] = df[\"법정동명\"] if \"법정동명\" in df.columns else np.nan"
   ]
  },
  {
   "cell_type": "code",
   "execution_count": 24,
   "id": "cb82d718",
   "metadata": {},
   "outputs": [],
   "source": [
    "# ===== 3) 서울특별시 필터링 =====\n",
    "df_seoul = df[df[\"시\"] == \"서울특별시\"].copy()\n",
    "\n",
    "# ===== 4) 구·동별 집계 =====\n",
    "df_grouped = (\n",
    "    df_seoul.groupby([\"구\", \"동\"])\n",
    "    .size()\n",
    "    .reset_index(name=\"동별 지구대/파출소 수\")\n",
    "    .sort_values(by=[\"구\", \"동\"], ascending=[True, True])\n",
    "    .reset_index(drop=True)\n",
    ")\n",
    "df_grouped = df_grouped.rename(columns={\"구\": \"지역구별\", \"동\": \"동별\"})\n"
   ]
  },
  {
   "cell_type": "code",
   "execution_count": 26,
   "id": "18012903",
   "metadata": {},
   "outputs": [
    {
     "name": "stdout",
     "output_type": "stream",
     "text": [
      "\n",
      "📢 [구별 소계 요약]\n",
      "강남구 14개, 강동구 8개, 강북구 9개, 강서구 11개, 관악구 8개, 광진구 10개, 구로구 8개, 금천구 5개, 노원구 8개, 도봉구 8개, 동대문구 10개, 동작구 7개, 마포구 7개, 서대문구 8개, 서초구 11개, 성동구 9개, 성북구 10개, 송파구 11개, 양천구 8개, 영등포구 10개, 용산구 4개, 은평구 8개, 종로구 20개, 중구 14개, 중랑구 8개\n",
      "\n",
      "✅ [집계 결과 - 상위 20건]\n",
      "   지역구별    동별  동별 지구대/파출소 수\n",
      "0   강남구   개포동             1\n",
      "1   강남구   논현동             2\n",
      "2   강남구   대치동             1\n",
      "3   강남구   삼성동             2\n",
      "4   강남구   세곡동             1\n",
      "5   강남구   수서동             1\n",
      "6   강남구   신사동             1\n",
      "7   강남구  압구정동             1\n",
      "8   강남구   역삼동             2\n",
      "9   강남구   일원동             1\n",
      "10  강남구   청담동             1\n",
      "11  강동구   강일동             1\n",
      "12  강동구   고덕동             1\n",
      "13  강동구   둔촌동             2\n",
      "14  강동구   명일동             1\n",
      "15  강동구   상일동             1\n",
      "16  강동구   성내동             1\n",
      "17  강동구   암사동             1\n",
      "18  강북구   미아동             3\n",
      "19  강북구    번동             2\n"
     ]
    }
   ],
   "source": [
    "# ===== 5) 각 구별 소계 문자 출력 =====\n",
    "df_summary = (\n",
    "    df_grouped.groupby(\"지역구별\")[\"동별 지구대/파출소 수\"]\n",
    "    .sum()\n",
    "    .reset_index()\n",
    "    .sort_values(by=\"지역구별\")\n",
    ")\n",
    "\n",
    "summary_text = \", \".join([f\"{row['지역구별']} {row['동별 지구대/파출소 수']}개\" for _, row in df_summary.iterrows()])\n",
    "print(\"\\n📢 [구별 소계 요약]\")\n",
    "print(summary_text)\n",
    "\n",
    "# ===== 6) 결과 확인 =====\n",
    "print(\"\\n✅ [집계 결과 - 상위 20건]\")\n",
    "print(df_grouped.head(20))\n"
   ]
  },
  {
   "cell_type": "code",
   "execution_count": 28,
   "id": "89082034",
   "metadata": {},
   "outputs": [
    {
     "name": "stdout",
     "output_type": "stream",
     "text": [
      "\n",
      "💾 집계 결과 저장 완료: /Users/mac/Documents/SORA_Project/data/preprocessing/Y14_경찰청_전국 지구대 파출소 주소 현황_20241231_TM.csv\n"
     ]
    }
   ],
   "source": [
    "# ===== 7) 파일 저장 =====\n",
    "output_path = os.path.join(output_dir, \"Y14_경찰청_전국 지구대 파출소 주소 현황_20241231_TM.csv\")\n",
    "df_grouped.to_csv(output_path, index=False, encoding=\"utf-8-sig\")\n",
    "print(f\"\\n💾 집계 결과 저장 완료: {output_path}\")"
   ]
  }
 ],
 "metadata": {
  "kernelspec": {
   "display_name": "3.11.13",
   "language": "python",
   "name": "python3"
  },
  "language_info": {
   "codemirror_mode": {
    "name": "ipython",
    "version": 3
   },
   "file_extension": ".py",
   "mimetype": "text/x-python",
   "name": "python",
   "nbconvert_exporter": "python",
   "pygments_lexer": "ipython3",
   "version": "3.11.13"
  }
 },
 "nbformat": 4,
 "nbformat_minor": 5
}
