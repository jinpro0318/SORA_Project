{
 "cells": [
  {
   "cell_type": "code",
   "execution_count": null,
   "id": "5248f4bb",
   "metadata": {
    "vscode": {
     "languageId": "plaintext"
    }
   },
   "outputs": [],
   "source": [
    "import pandas as pd\n",
    "import re"
   ]
  },
  {
   "cell_type": "code",
   "execution_count": null,
   "id": "fbab9b54",
   "metadata": {
    "vscode": {
     "languageId": "plaintext"
    }
   },
   "outputs": [],
   "source": [
    "# 1. 파일 경로\n",
    "input_file = \"data/raw/Y06_안전비상벨_TM.csv\"\n",
    "output_file = \"data/processed/Y06_안전비상벨_TM_전처리.csv\""
   ]
  },
  {
   "cell_type": "code",
   "execution_count": null,
   "id": "bb147f29",
   "metadata": {
    "vscode": {
     "languageId": "plaintext"
    }
   },
   "outputs": [],
   "source": [
    "# 2. 데이터 불러오기 (인코딩 이중 시도)\n",
    "try:\n",
    "    df = pd.read_csv(input_file, encoding=\"utf-8-sig\")\n",
    "except UnicodeDecodeError:\n",
    "    df = pd.read_csv(input_file, encoding=\"cp949\")\n",
    "\n",
    "print(f\"불러온 데이터 shape: {df.shape}\")\n",
    "print(f\"컬럼 목록: {df.columns.tolist()}\")\n"
   ]
  },
  {
   "cell_type": "code",
   "execution_count": null,
   "id": "b7cc1fc3",
   "metadata": {
    "vscode": {
     "languageId": "plaintext"
    }
   },
   "outputs": [],
   "source": []
  }
 ],
 "metadata": {
  "language_info": {
   "name": "python"
  }
 },
 "nbformat": 4,
 "nbformat_minor": 5
}
