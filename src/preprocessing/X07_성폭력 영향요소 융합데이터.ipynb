{
 "cells": [
  {
   "cell_type": "code",
   "execution_count": 9,
   "id": "9dc0d893",
   "metadata": {},
   "outputs": [
    {
     "name": "stdout",
     "output_type": "stream",
     "text": [
      "데이터 불러오기 성공!\n",
      "   OCRN_YR PLCST_NM  SVLNC  DTVC  STKNG  RPRT_CASCNT_WHOL  RPRT_SEX_MALE  \\\n",
      "0  ﻿\"2022\"       제천     36    90     27               153             40   \n",
      "1     2022     청주상당    106   231    132               469            116   \n",
      "2     2022       옥천      9     8      7                24              8   \n",
      "3     2022       영동     15    16     10                41             16   \n",
      "4     2022       충주     61   226     59               346             75   \n",
      "\n",
      "   RPRT_SEX_FMLE  RPRT_SEX_UNKWN  RPRT_SEX_ETC  ...  OCRN_TIZN_16  \\\n",
      "0             87              26             0  ...             5   \n",
      "1            327              26             0  ...            18   \n",
      "2             16               0             0  ...             2   \n",
      "3             25               0             0  ...             1   \n",
      "4            232              39             0  ...            10   \n",
      "\n",
      "   OCRN_TIZN_17  OCRN_TIZN_18  OCRN_TIZN_19  OCRN_TIZN_20  OCRN_TIZN_21  \\\n",
      "0             4             4             8             9             1   \n",
      "1            19            17            25            13            24   \n",
      "2             1             0             0             0             1   \n",
      "3             1             1             2             1             1   \n",
      "4             9            10            16            18            15   \n",
      "\n",
      "   OCRN_TIZN_22  OCRN_TIZN_23  MNTH_AVE_INCOME_AMT  TOTL_RESID_PUL_CNT  \n",
      "0            12            20                    0                   0  \n",
      "1            31            35                    0                   0  \n",
      "2             7             1                    0                   0  \n",
      "3             1             3                    0                   0  \n",
      "4            23            30                    0                   0  \n",
      "\n",
      "[5 rows x 48 columns]\n"
     ]
    }
   ],
   "source": [
    "import pandas as pd\n",
    "import os\n",
    "\n",
    "\n",
    "relative_data_path = '../../data/raw/' \n",
    "file_name = 'X07_성폭력 영향요소 융합데이터.csv' # ⚠️ 컴퓨터에서 변경한 가장 단순한 이름으로 가정\n",
    "file_path = os.path.join(relative_data_path, file_name)\n",
    "\n",
    "# 2. CSV 파일 읽기\n",
    "try:\n",
    "    df_influence = pd.read_csv(file_path, encoding='utf-8')\n",
    "    \n",
    "    # 데이터가 잘 불러와졌는지 확인하기 위해 상위 5개 행을 출력\n",
    "    print(\"데이터 불러오기 성공!\")\n",
    "    print(df_influence.head())\n",
    "    \n",
    "except FileNotFoundError:\n",
    "    print(f\"오류: '{file_path}' 파일을 찾을 수 없습니다. 파일 경로와 이름을 다시 확인해주세요.\")\n",
    "except Exception as e:\n",
    "    # 한글 인코딩 문제로 오류가 날 경우를 대비한 추가 처리\n",
    "    print(f\"다른 인코딩으로 재시도 중... 현재 오류: {e}\")\n",
    "    try:\n",
    "        df_influence = pd.read_csv(file_path, encoding='cp949') # 윈도우 기본 인코딩\n",
    "        print(\"데이터 불러오기 성공 (cp949)\")\n",
    "        print(df_influence.head())\n",
    "    except:\n",
    "        print(\"파일 불러오기에 실패했습니다. 파일이 깨졌거나 인코딩 문제가 심각합니다.\")"
   ]
  },
  {
   "cell_type": "code",
   "execution_count": 10,
   "id": "070cca9b",
   "metadata": {},
   "outputs": [
    {
     "name": "stdout",
     "output_type": "stream",
     "text": [
      "✅ 서울 지역 데이터 필터링 완료!\n",
      "원본 데이터 크기: 242 행\n",
      "서울 데이터 크기: 31 행\n",
      "\n",
      "[서울 필터링된 데이터 미리보기]\n",
      "   OCRN_YR PLCST_NM  SVLNC  DTVC  STKNG  RPRT_CASCNT_WHOL  RPRT_SEX_MALE  \\\n",
      "19    2022     서울용산    274   347    171               792            249   \n",
      "20    2022     서울성동    151   254    165               570            152   \n",
      "21    2022     서울중부    190   197    100               487            174   \n",
      "22    2022     서울광진    408   668    242              1318            428   \n",
      "23    2022    서울동대문    236   477    213               926            258   \n",
      "\n",
      "    RPRT_SEX_FMLE  RPRT_SEX_UNKWN  RPRT_SEX_ETC  ...  OCRN_TIZN_16  \\\n",
      "19            465              78             0  ...            19   \n",
      "20            366              52             0  ...            18   \n",
      "21            258              55             0  ...            22   \n",
      "22            748             142             0  ...            45   \n",
      "23            576              92             0  ...            29   \n",
      "\n",
      "    OCRN_TIZN_17  OCRN_TIZN_18  OCRN_TIZN_19  OCRN_TIZN_20  OCRN_TIZN_21  \\\n",
      "19            30            25            25            27            24   \n",
      "20            17            18            26            21            29   \n",
      "21            14            18            21            24            25   \n",
      "22            27            40            52            64            65   \n",
      "23            28            45            33            43            66   \n",
      "\n",
      "    OCRN_TIZN_22  OCRN_TIZN_23  MNTH_AVE_INCOME_AMT  TOTL_RESID_PUL_CNT  \n",
      "19            53            58                15494             3815343  \n",
      "20            36            33                18330             3533378  \n",
      "21            37            39                 5077             3496024  \n",
      "22           108           114                23592             3050692  \n",
      "23            69            69                25842             3009513  \n",
      "\n",
      "[5 rows x 48 columns]\n"
     ]
    }
   ],
   "source": [
    "address_column_name = 'PLCST_NM' \n",
    "\n",
    "    # --- 3. 전국구 데이터에서 '서울' 포함 행만 필터링 ---\n",
    "    # 문자열 처리 함수(str)와 contains()를 사용하여 '서울'이라는 문자열을 포함하는 행만 선택\n",
    "    # isnull()과 | (OR 연산자)를 사용하여 혹시 모를 결측치도 함께 포함합니다.\n",
    "df_violence = df_influence[\n",
    "    df_influence[address_column_name].str.contains('서울', na=False)].copy()\n",
    "\n",
    "print(\"✅ 서울 지역 데이터 필터링 완료!\")\n",
    "print(f\"원본 데이터 크기: {len(df_influence)} 행\")\n",
    "print(f\"서울 데이터 크기: {len(df_seoul)} 행\")\n",
    "print(\"\\n[서울 필터링된 데이터 미리보기]\")\n",
    "print(df_seoul.head())"
   ]
  },
  {
   "cell_type": "code",
   "execution_count": 11,
   "id": "45c94e7b",
   "metadata": {},
   "outputs": [
    {
     "data": {
      "text/plain": [
       "19     서울용산\n",
       "20     서울성동\n",
       "21     서울중부\n",
       "22     서울광진\n",
       "23    서울동대문\n",
       "24     서울중랑\n",
       "25     서울성북\n",
       "26     서울종암\n",
       "27     서울강북\n",
       "29     서울도봉\n",
       "30     서울노원\n",
       "31     서울서부\n",
       "32     서울은평\n",
       "33    서울서대문\n",
       "34     서울마포\n",
       "35     서울양천\n",
       "36     서울관악\n",
       "37     서울서초\n",
       "38     서울방배\n",
       "39     서울강남\n",
       "40     서울수서\n",
       "41     서울송파\n",
       "42     서울강동\n",
       "47     서울강서\n",
       "48     서울구로\n",
       "49     서울금천\n",
       "50    서울영등포\n",
       "51     서울동작\n",
       "62     서울종로\n",
       "63     서울혜화\n",
       "64    서울남대문\n",
       "Name: PLCST_NM, dtype: object"
      ]
     },
     "execution_count": 11,
     "metadata": {},
     "output_type": "execute_result"
    }
   ],
   "source": [
    "df_violence['PLCST_NM']"
   ]
  },
  {
   "cell_type": "code",
   "execution_count": 12,
   "id": "40b5e7fd",
   "metadata": {},
   "outputs": [
    {
     "name": "stdout",
     "output_type": "stream",
     "text": [
      "✅ '여성_잠재적_위험_지수' 컬럼 생성 완료!\n",
      "   PLCST_NM  여성_잠재적_위험_지수\n",
      "19     서울용산           792\n",
      "20     서울성동           570\n",
      "21     서울중부           487\n",
      "22     서울광진          1318\n",
      "23    서울동대문           926\n"
     ]
    }
   ],
   "source": [
    "# df_violence가 성폭력 데이터프레임이라고 가정\n",
    "\n",
    "# 1. '여성 잠재적 위험 지수'를 계산할 세 가지 핵심 컬럼 지정\n",
    "risk_columns = ['SVLNC', 'DTVC', 'STKNG']\n",
    "\n",
    "# 2. 이 세 컬럼의 값을 행(경찰서) 단위로 모두 합산 (axis=1)\n",
    "# 이 값이 바로 '경찰서별 여성 잠재적 위험 지수'가 돼!\n",
    "df_violence['여성_잠재적_위험_지수'] = df_violence[risk_columns].sum(axis=1)\n",
    "\n",
    "print(\"✅ '여성_잠재적_위험_지수' 컬럼 생성 완료!\")\n",
    "print(df_violence[['PLCST_NM', '여성_잠재적_위험_지수']].head())"
   ]
  },
  {
   "cell_type": "markdown",
   "id": "76f998e2",
   "metadata": {},
   "source": [
    "총 신고 건수 대비 긴급 신고 건수의 비율이 높을수록 사건 발생시 위험도가 매우 높다 > 경찰의 신속 출동 인프라 보강이 시급하다."
   ]
  },
  {
   "cell_type": "code",
   "execution_count": 13,
   "id": "f40b9776",
   "metadata": {},
   "outputs": [
    {
     "name": "stdout",
     "output_type": "stream",
     "text": [
      "✅ '긴급_신고_비율(%)' 컬럼 생성 완료!\n",
      "   PLCST_NM  RPRT_CASCNT_WHOL  ACPT_EMERG_TYPE_EMERG  긴급_신고_비율(%)\n",
      "19     서울용산               792                     91        11.49\n",
      "20     서울성동               570                     62        10.88\n",
      "21     서울중부               487                     62        12.73\n",
      "22     서울광진              1318                    159        12.06\n",
      "23    서울동대문               926                    116        12.53\n"
     ]
    }
   ],
   "source": [
    "# df_violence가 성폭력 데이터프레임이라고 가정\n",
    "import numpy as np\n",
    "\n",
    "# 1. '긴급 신고 비율' 계산 (총 신고 건수가 0일 경우 오류 방지를 위해 np.where 사용)\n",
    "# 공식: (긴급 접수 건수 / 총 신고 건수) * 100\n",
    "df_violence['긴급_신고_비율(%)'] = np.where(\n",
    "    df_violence['RPRT_CASCNT_WHOL'] == 0, # 총 신고 건수가 0이면\n",
    "    0, # 비율도 0\n",
    "    (df_violence['ACPT_EMERG_TYPE_EMERG'] / df_violence['RPRT_CASCNT_WHOL']) * 100\n",
    ").round(2)\n",
    "\n",
    "print(\"✅ '긴급_신고_비율(%)' 컬럼 생성 완료!\")\n",
    "print(df_violence[['PLCST_NM', 'RPRT_CASCNT_WHOL', 'ACPT_EMERG_TYPE_EMERG', '긴급_신고_비율(%)']].head())"
   ]
  },
  {
   "cell_type": "code",
   "execution_count": 14,
   "id": "312ad5ba",
   "metadata": {},
   "outputs": [
    {
     "name": "stdout",
     "output_type": "stream",
     "text": [
      "✅ '심야_취약_비율(%)' 컬럼 생성 완료!\n",
      "   PLCST_NM  심야_발생_총합  전체_시간대_총합  심야_취약_비율(%)\n",
      "19     서울용산       402        792        50.76\n",
      "20     서울성동       258        570        45.26\n",
      "21     서울중부       211        487        43.33\n",
      "22     서울광진       672       1318        50.99\n",
      "23    서울동대문       389        926        42.01\n"
     ]
    }
   ],
   "source": [
    "# df_violence가 성폭력 데이터프레임이라고 가정\n",
    "\n",
    "# 1. 심야 시간대 컬럼 리스트 지정 (22시, 23시, 00시, 01시, 02시, 03시, 04시)\n",
    "midnight_zones = [\n",
    "    'OCRN_TIZN_22', 'OCRN_TIZN_23', # 저녁 10시, 11시\n",
    "    'OCRN_TIZN_00', 'OCRN_TIZN_01', 'OCRN_TIZN_02', 'OCRN_TIZN_03', 'OCRN_TIZN_04' # 새벽 0시 ~ 4시\n",
    "]\n",
    "\n",
    "# 2. 심야 시간대 발생 건수를 모두 합산\n",
    "df_violence['심야_발생_총합'] = df_violence[midnight_zones].sum(axis=1)\n",
    "\n",
    "# 3. 전체 발생 건수 합산 (24시간 전체)\n",
    "# 'OCRN_TIZN_00'부터 'OCRN_TIZN_23'까지 모든 시간대를 합쳐야 함\n",
    "all_time_zones = [f'OCRN_TIZN_{str(i).zfill(2)}' for i in range(24)]\n",
    "df_violence['전체_시간대_총합'] = df_violence[all_time_zones].sum(axis=1)\n",
    "\n",
    "# 4. '심야 취약 지수' (전체 대비 심야 비율) 계산\n",
    "df_violence['심야_취약_비율(%)'] = np.where(\n",
    "    df_violence['전체_시간대_총합'] == 0, # 전체 발생이 0이면\n",
    "    0, # 비율도 0\n",
    "    (df_violence['심야_발생_총합'] / df_violence['전체_시간대_총합']) * 100\n",
    ").round(2)\n",
    "\n",
    "print(\"✅ '심야_취약_비율(%)' 컬럼 생성 완료!\")\n",
    "print(df_violence[['PLCST_NM', '심야_발생_총합', '전체_시간대_총합', '심야_취약_비율(%)']].head())"
   ]
  },
  {
   "cell_type": "code",
   "execution_count": 15,
   "id": "8c160f75",
   "metadata": {},
   "outputs": [
    {
     "name": "stdout",
     "output_type": "stream",
     "text": [
      "✅ '퇴근후' 및 '주간' 취약 비율 컬럼 생성 완료!\n",
      "   PLCST_NM  심야_취약_비율(%)  퇴근후_취약_비율(%)  주간_취약_비율(%)\n",
      "19     서울용산        50.76         12.75        24.75\n",
      "20     서울성동        45.26         16.49        25.79\n",
      "21     서울중부        43.33         18.07        28.34\n",
      "22     서울광진        50.99         16.77        22.23\n",
      "23    서울동대문        42.01         20.19        27.43\n"
     ]
    }
   ],
   "source": [
    "# df_violence가 성폭력 데이터프레임이라고 가정\n",
    "import numpy as np\n",
    "\n",
    "# --- 1. 퇴근 후 (Evening Zone) ---\n",
    "evening_zones = [\n",
    "    'OCRN_TIZN_18', 'OCRN_TIZN_19', 'OCRN_TIZN_20', 'OCRN_TIZN_21' # 저녁 6시 ~ 9시\n",
    "]\n",
    "df_violence['퇴근후_발생_총합'] = df_violence[evening_zones].sum(axis=1)\n",
    "\n",
    "df_violence['퇴근후_취약_비율(%)'] = np.where(\n",
    "    df_violence['전체_시간대_총합'] == 0, # 전체 발생이 0이면\n",
    "    0, \n",
    "    (df_violence['퇴근후_발생_총합'] / df_violence['전체_시간대_총합']) * 100\n",
    ").round(2)\n",
    "\n",
    "\n",
    "# --- 2. 주간 (Day Zone) ---\n",
    "day_zones = [\n",
    "    'OCRN_TIZN_09', 'OCRN_TIZN_10', 'OCRN_TIZN_11', 'OCRN_TIZN_12', \n",
    "    'OCRN_TIZN_13', 'OCRN_TIZN_14', 'OCRN_TIZN_15', 'OCRN_TIZN_16', 'OCRN_TIZN_17' # 오전 9시 ~ 오후 5시\n",
    "]\n",
    "df_violence['주간_발생_총합'] = df_violence[day_zones].sum(axis=1)\n",
    "\n",
    "df_violence['주간_취약_비율(%)'] = np.where(\n",
    "    df_violence['전체_시간대_총합'] == 0, # 전체 발생이 0이면\n",
    "    0, \n",
    "    (df_violence['주간_발생_총합'] / df_violence['전체_시간대_총합']) * 100\n",
    ").round(2)\n",
    "\n",
    "print(\"✅ '퇴근후' 및 '주간' 취약 비율 컬럼 생성 완료!\")\n",
    "print(df_violence[['PLCST_NM', '심야_취약_비율(%)', '퇴근후_취약_비율(%)', '주간_취약_비율(%)']].head())"
   ]
  }
 ],
 "metadata": {
  "kernelspec": {
   "display_name": "Python 3",
   "language": "python",
   "name": "python3"
  },
  "language_info": {
   "codemirror_mode": {
    "name": "ipython",
    "version": 3
   },
   "file_extension": ".py",
   "mimetype": "text/x-python",
   "name": "python",
   "nbconvert_exporter": "python",
   "pygments_lexer": "ipython3",
   "version": "3.13.1"
  }
 },
 "nbformat": 4,
 "nbformat_minor": 5
}
