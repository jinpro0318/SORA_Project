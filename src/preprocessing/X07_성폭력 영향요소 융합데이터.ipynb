{
 "cells": [
  {
   "cell_type": "code",
   "execution_count": 2,
   "id": "9dc0d893",
   "metadata": {},
   "outputs": [
    {
     "name": "stdout",
     "output_type": "stream",
     "text": [
      "데이터 불러오기 성공!\n",
      "   OCRN_YR PLCST_NM  SVLNC  DTVC  STKNG  RPRT_CASCNT_WHOL  RPRT_SEX_MALE  \\\n",
      "0  ﻿\"2022\"       제천     36    90     27               153             40   \n",
      "1     2022     청주상당    106   231    132               469            116   \n",
      "2     2022       옥천      9     8      7                24              8   \n",
      "3     2022       영동     15    16     10                41             16   \n",
      "4     2022       충주     61   226     59               346             75   \n",
      "\n",
      "   RPRT_SEX_FMLE  RPRT_SEX_UNKWN  RPRT_SEX_ETC  ...  OCRN_TIZN_16  \\\n",
      "0             87              26             0  ...             5   \n",
      "1            327              26             0  ...            18   \n",
      "2             16               0             0  ...             2   \n",
      "3             25               0             0  ...             1   \n",
      "4            232              39             0  ...            10   \n",
      "\n",
      "   OCRN_TIZN_17  OCRN_TIZN_18  OCRN_TIZN_19  OCRN_TIZN_20  OCRN_TIZN_21  \\\n",
      "0             4             4             8             9             1   \n",
      "1            19            17            25            13            24   \n",
      "2             1             0             0             0             1   \n",
      "3             1             1             2             1             1   \n",
      "4             9            10            16            18            15   \n",
      "\n",
      "   OCRN_TIZN_22  OCRN_TIZN_23  MNTH_AVE_INCOME_AMT  TOTL_RESID_PUL_CNT  \n",
      "0            12            20                    0                   0  \n",
      "1            31            35                    0                   0  \n",
      "2             7             1                    0                   0  \n",
      "3             1             3                    0                   0  \n",
      "4            23            30                    0                   0  \n",
      "\n",
      "[5 rows x 48 columns]\n"
     ]
    }
   ],
   "source": [
    "import pandas as pd\n",
    "import os\n",
    "\n",
    "\n",
    "relative_data_path = '../../data/raw/' \n",
    "file_name = 'X07_성폭력 영향요소 융합데이터.csv' # ⚠️ 컴퓨터에서 변경한 가장 단순한 이름으로 가정\n",
    "file_path = os.path.join(relative_data_path, file_name)\n",
    "\n",
    "# 2. CSV 파일 읽기\n",
    "try:\n",
    "    df_influence = pd.read_csv(file_path, encoding='utf-8')\n",
    "    \n",
    "    # 데이터가 잘 불러와졌는지 확인하기 위해 상위 5개 행을 출력\n",
    "    print(\"데이터 불러오기 성공!\")\n",
    "    print(df_influence.head())\n",
    "    \n",
    "except FileNotFoundError:\n",
    "    print(f\"오류: '{file_path}' 파일을 찾을 수 없습니다. 파일 경로와 이름을 다시 확인해주세요.\")\n",
    "except Exception as e:\n",
    "    # 한글 인코딩 문제로 오류가 날 경우를 대비한 추가 처리\n",
    "    print(f\"다른 인코딩으로 재시도 중... 현재 오류: {e}\")\n",
    "    try:\n",
    "        df_influence = pd.read_csv(file_path, encoding='cp949') # 윈도우 기본 인코딩\n",
    "        print(\"데이터 불러오기 성공 (cp949)\")\n",
    "        print(df_influence.head())\n",
    "    except:\n",
    "        print(\"파일 불러오기에 실패했습니다. 파일이 깨졌거나 인코딩 문제가 심각합니다.\")"
   ]
  },
  {
   "cell_type": "code",
   "execution_count": 5,
   "id": "070cca9b",
   "metadata": {},
   "outputs": [
    {
     "name": "stdout",
     "output_type": "stream",
     "text": [
      "✅ 서울 지역 데이터 필터링 완료!\n",
      "원본 데이터 크기: 242 행\n",
      "서울 데이터 크기: 31 행\n",
      "\n",
      "[서울 필터링된 데이터 미리보기]\n",
      "   OCRN_YR PLCST_NM  SVLNC  DTVC  STKNG  RPRT_CASCNT_WHOL  RPRT_SEX_MALE  \\\n",
      "19    2022     서울용산    274   347    171               792            249   \n",
      "20    2022     서울성동    151   254    165               570            152   \n",
      "21    2022     서울중부    190   197    100               487            174   \n",
      "22    2022     서울광진    408   668    242              1318            428   \n",
      "23    2022    서울동대문    236   477    213               926            258   \n",
      "\n",
      "    RPRT_SEX_FMLE  RPRT_SEX_UNKWN  RPRT_SEX_ETC  ...  OCRN_TIZN_16  \\\n",
      "19            465              78             0  ...            19   \n",
      "20            366              52             0  ...            18   \n",
      "21            258              55             0  ...            22   \n",
      "22            748             142             0  ...            45   \n",
      "23            576              92             0  ...            29   \n",
      "\n",
      "    OCRN_TIZN_17  OCRN_TIZN_18  OCRN_TIZN_19  OCRN_TIZN_20  OCRN_TIZN_21  \\\n",
      "19            30            25            25            27            24   \n",
      "20            17            18            26            21            29   \n",
      "21            14            18            21            24            25   \n",
      "22            27            40            52            64            65   \n",
      "23            28            45            33            43            66   \n",
      "\n",
      "    OCRN_TIZN_22  OCRN_TIZN_23  MNTH_AVE_INCOME_AMT  TOTL_RESID_PUL_CNT  \n",
      "19            53            58                15494             3815343  \n",
      "20            36            33                18330             3533378  \n",
      "21            37            39                 5077             3496024  \n",
      "22           108           114                23592             3050692  \n",
      "23            69            69                25842             3009513  \n",
      "\n",
      "[5 rows x 48 columns]\n"
     ]
    }
   ],
   "source": [
    "address_column_name = 'PLCST_NM' \n",
    "\n",
    "    # --- 3. 전국구 데이터에서 '서울' 포함 행만 필터링 ---\n",
    "    # 문자열 처리 함수(str)와 contains()를 사용하여 '서울'이라는 문자열을 포함하는 행만 선택\n",
    "    # isnull()과 | (OR 연산자)를 사용하여 혹시 모를 결측치도 함께 포함합니다.\n",
    "df_seoul = df_influence[\n",
    "    df_influence[address_column_name].str.contains('서울', na=False)].copy()\n",
    "\n",
    "print(\"✅ 서울 지역 데이터 필터링 완료!\")\n",
    "print(f\"원본 데이터 크기: {len(df_influence)} 행\")\n",
    "print(f\"서울 데이터 크기: {len(df_seoul)} 행\")\n",
    "print(\"\\n[서울 필터링된 데이터 미리보기]\")\n",
    "print(df_seoul.head())"
   ]
  },
  {
   "cell_type": "code",
   "execution_count": 8,
   "id": "45c94e7b",
   "metadata": {},
   "outputs": [
    {
     "data": {
      "text/plain": [
       "19     서울용산\n",
       "20     서울성동\n",
       "21     서울중부\n",
       "22     서울광진\n",
       "23    서울동대문\n",
       "24     서울중랑\n",
       "25     서울성북\n",
       "26     서울종암\n",
       "27     서울강북\n",
       "29     서울도봉\n",
       "30     서울노원\n",
       "31     서울서부\n",
       "32     서울은평\n",
       "33    서울서대문\n",
       "34     서울마포\n",
       "35     서울양천\n",
       "36     서울관악\n",
       "37     서울서초\n",
       "38     서울방배\n",
       "39     서울강남\n",
       "40     서울수서\n",
       "41     서울송파\n",
       "42     서울강동\n",
       "47     서울강서\n",
       "48     서울구로\n",
       "49     서울금천\n",
       "50    서울영등포\n",
       "51     서울동작\n",
       "62     서울종로\n",
       "63     서울혜화\n",
       "64    서울남대문\n",
       "Name: PLCST_NM, dtype: object"
      ]
     },
     "execution_count": 8,
     "metadata": {},
     "output_type": "execute_result"
    }
   ],
   "source": [
    "df_seoul['PLCST_NM']"
   ]
  }
 ],
 "metadata": {
  "kernelspec": {
   "display_name": "Python 3",
   "language": "python",
   "name": "python3"
  },
  "language_info": {
   "codemirror_mode": {
    "name": "ipython",
    "version": 3
   },
   "file_extension": ".py",
   "mimetype": "text/x-python",
   "name": "python",
   "nbconvert_exporter": "python",
   "pygments_lexer": "ipython3",
   "version": "3.13.1"
  }
 },
 "nbformat": 4,
 "nbformat_minor": 5
}
